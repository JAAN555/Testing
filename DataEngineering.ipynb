{
 "cells": [
  {
   "cell_type": "code",
   "execution_count": null,
   "metadata": {
    "colab": {
     "base_uri": "https://localhost:8080/"
    },
    "id": "iy5PSNT2mdBD",
    "outputId": "da8f651e-6738-45d6-b8a8-9633d52566d6"
   },
   "outputs": [],
   "source": [
    "import os\n",
    "import pandas as pd\n",
    "\n",
    "# Paths for your directories\n",
    "base_path = os.getcwd()\n",
    "archive_path = os.path.join(base_path, 'archive')\n",
    "archive2_path = os.path.join(base_path, 'archive2')\n",
    "\n",
    "# Arrays to store data\n",
    "archive_data = []  # CSV files from \"archive\"\n",
    "etfs_data = []     # CSV files from \"etfs\"\n",
    "stocks_data = []   # CSV files from \"stocks\"\n",
    "\n",
    "# Load files from \"archive\"\n",
    "for file in os.listdir(archive_path):\n",
    "    if file.endswith('.csv'):\n",
    "        file_path = os.path.join(archive_path, file)\n",
    "        print(f\"Processing file: {file_path}\")  # Debug line\n",
    "        data = pd.read_csv(file_path, quotechar='\"', escapechar='\\\\', engine='python')\n",
    "        archive_data.append(data)\n",
    "\n",
    "# Load files from \"archive(1)/etfs\"\n",
    "etfs_path = os.path.join(archive2_path, 'etfs')\n",
    "for file in os.listdir(etfs_path):\n",
    "    if file.endswith('.csv'):\n",
    "        file_path = os.path.join(etfs_path, file)\n",
    "        data = pd.read_csv(file_path)\n",
    "        etfs_data.append(data)\n",
    "\n",
    "# Load files from \"archive(1)/stocks\"\n",
    "stocks_path = os.path.join(archive2_path, 'stocks')\n",
    "for file in os.listdir(stocks_path):\n",
    "    if file.endswith('.csv'):\n",
    "        file_path = os.path.join(stocks_path, file)\n",
    "        data = pd.read_csv(file_path)\n",
    "        stocks_data.append(data)\n",
    "\n",
    "# Load \"symbols_valid_meta.csv\"\n",
    "symbols_meta_path = os.path.join(archive2_path, 'symbols_valid_meta.csv')\n",
    "symbols_meta = pd.read_csv(symbols_meta_path)\n",
    "\n",
    "# Output summary\n",
    "print(f\"Loaded {len(archive_data)} files from 'archive'.\")\n",
    "print(f\"Loaded {len(etfs_data)} files from 'etfs'.\")\n",
    "print(f\"Loaded {len(stocks_data)} files from 'stocks'.\")\n",
    "print(\"Loaded metadata from 'symbols_valid_meta.csv'.\")"
   ]
  },
  {
   "cell_type": "code",
   "execution_count": null,
   "metadata": {},
   "outputs": [
    {
     "name": "stdout",
     "output_type": "stream",
     "text": [
      " Volume in drive C is OS\n",
      " Volume Serial Number is 341F-69CB\n",
      "\n",
      " Directory of c:\\Users\\molsi\\Documents\\Cinema-Stocks---Data-Engineering\n",
      "\n",
      "11/27/2024  02:51 PM    <DIR>          .\n",
      "11/22/2024  04:32 PM    <DIR>          ..\n",
      "11/27/2024  02:51 PM    <DIR>          archive\n",
      "11/27/2024  02:50 PM    <DIR>          archive(1)\n",
      "11/27/2024  02:18 PM       547,714,524 archive(1).zip\n",
      "11/27/2024  02:17 PM         1,783,607 archive.zip\n",
      "11/27/2024  02:44 PM             9,511 DataEngineering.ipynb\n",
      "11/22/2024  04:32 PM               224 README.md\n",
      "               4 File(s)    549,507,866 bytes\n",
      "               4 Dir(s)  59,611,090,944 bytes free\n"
     ]
    }
   ],
   "source": [
    "!dir"
   ]
  }
 ],
 "metadata": {
  "colab": {
   "provenance": []
  },
  "kernelspec": {
   "display_name": "Python 3",
   "name": "python3"
  },
  "language_info": {
   "codemirror_mode": {
    "name": "ipython",
    "version": 3
   },
   "file_extension": ".py",
   "mimetype": "text/x-python",
   "name": "python",
   "nbconvert_exporter": "python",
   "pygments_lexer": "ipython3",
   "version": "3.11.9"
  }
 },
 "nbformat": 4,
 "nbformat_minor": 0
}
