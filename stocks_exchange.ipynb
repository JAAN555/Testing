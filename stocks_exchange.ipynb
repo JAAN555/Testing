{
 "cells": [
  {
   "cell_type": "code",
   "execution_count": 2,
   "metadata": {},
   "outputs": [
    {
     "name": "stdout",
     "output_type": "stream",
     "text": [
      "Files moved successfully!\n"
     ]
    }
   ],
   "source": [
    "import os\n",
    "import shutil\n",
    "\n",
    "# Input folders\n",
    "folder1 = \"stocks\"  # Replace with the path to folder1\n",
    "folder2 = \"stocks_we_will_use\"  # Replace with the path to folder2\n",
    "\n",
    "# List of filenames without extensions\n",
    "file_list = [\n",
    "    \"A\", \"AA\", \"AACG\", \"AAL\", \"AAN\", \"AAOI\", \"AAON\", \"AAP\", \"AAU\", \"B\", \"DIS\",\n",
    "    \"BWA\", \"SNE\", \"PGRE\", \"UVV\", \"LGF.B\", \"NFLX\", \"REG\", \"SPOT\", \"ROKU\", \"AMZN\",\n",
    "    \"TME\", \"IQ\", \"BILI\", \"ZNGA\", \"ATVI\", \"EA\", \"NTES\", \"TTWO\", \"MAT\", \"HAS\", \"FNKO\",\n",
    "    \"CZR\", \"SIX\", \"ORCL\", \"HPQ\", \"DELL\", \"AAPL\", \"MSFT\", \"TSLA\", \"NVDA\", \"AMD\",\n",
    "    \"LPL\", \"BAX\", \"JNJ\", \"PFE\", \"NVS\", \"AZN\", \"MRK\", \"MDT\", \"BSX\", \"NKE\", \"PBYI\",\n",
    "    \"UAA\", \"PG\", \"PLNT\", \"PTON\", \"LULU\", \"FSLR\", \"WMT\", \"COST\", \"HD\", \"UNH\", \"CVS\",\n",
    "    \"GOOG\", \"GOOGL\", \"BAC\", \"C\", \"EAD\", \"GBIL\", \"CVX\", \"MPC\", \"PSX\", \"PSXP\", \"CCZ\",\n",
    "    \"VZ\", \"CHTR\", \"DIS\", \"ALL\", \"AIG\", \"MCD\", \"SBUX\", \"DPZ\", \"F\", \"GM\"\n",
    "]\n",
    "\n",
    "# Ensure folder2 exists\n",
    "os.makedirs(folder2, exist_ok=True)\n",
    "\n",
    "# Loop through files in folder1\n",
    "for filename in os.listdir(folder1):\n",
    "    # Get the name without extension\n",
    "    file_base, file_extension = os.path.splitext(filename)\n",
    "    \n",
    "    # Check if the file base matches the file list\n",
    "    if file_base in file_list:\n",
    "        # Move file to folder2\n",
    "        shutil.move(os.path.join(folder1, filename), os.path.join(folder2, filename))\n",
    "\n",
    "print(\"Files moved successfully!\")"
   ]
  }
 ],
 "metadata": {
  "kernelspec": {
   "display_name": "base",
   "language": "python",
   "name": "python3"
  },
  "language_info": {
   "codemirror_mode": {
    "name": "ipython",
    "version": 3
   },
   "file_extension": ".py",
   "mimetype": "text/x-python",
   "name": "python",
   "nbconvert_exporter": "python",
   "pygments_lexer": "ipython3",
   "version": "3.12.4"
  }
 },
 "nbformat": 4,
 "nbformat_minor": 2
}
